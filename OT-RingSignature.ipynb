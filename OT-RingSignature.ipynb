{
 "cells": [
  {
   "cell_type": "code",
   "execution_count": 21,
   "metadata": {},
   "outputs": [],
   "source": [
    "import hashlib\n",
    "import os\n",
    "import random\n",
    "import secrets\n",
    "from timeit import default_timer as timer"
   ]
  },
  {
   "cell_type": "code",
   "execution_count": 52,
   "metadata": {},
   "outputs": [],
   "source": [
    "def PRG(seed):\n",
    "    # Wrapper for a PRG\n",
    "    # TODO? Implement one from a hash functoin\n",
    "    random.seed(seed)        \n",
    "    return format(random.getrandbits(len(seed)*3), f'0{len(seed)*3}b')\n",
    "\n",
    "def gen_seed(length):\n",
    "    return format(secrets.randbits(length), f'0{length}b')\n",
    "\n",
    "def GenTestRing(N, pkl, l):\n",
    "    \"\"\"\n",
    "    Generate a sample Ring.\n",
    "    args:\n",
    "        N: The number of people in the ring\n",
    "        pkl: the public key that we know\n",
    "        l: the position of the public key\n",
    "        \n",
    "    returns:\n",
    "        A ring of N people, each person has a public key of type [128]\n",
    "    \"\"\"\n",
    "    \n",
    "    R = []\n",
    "    \n",
    "    for j in range(N):\n",
    "        if j == l:\n",
    "            R.append(pkl)\n",
    "        else:\n",
    "            pkj=[]\n",
    "            for i in range(128):                \n",
    "                pk = gen_seed(128)\n",
    "                pkj.append(pk)\n",
    "            R.append(pkj)\n",
    "    return R\n",
    "\n",
    "#@click.command()\n",
    "def GenKey():\n",
    "    # Generate a public/private key pair\n",
    "    \n",
    "    sk = []\n",
    "    pk = []\n",
    "    for j in range(128):\n",
    "        \n",
    "        # generate 2 random secret keys. \n",
    "        s1 = gen_seed(128)\n",
    "        s2 = gen_seed(128)\n",
    "        sk.append((s1,s2))\n",
    "        \n",
    "        # use each secret key as the seed to the PRG that will generate the public key\n",
    "        pk1 = PRG(s1)        \n",
    "        pk2 = PRG(s2) \n",
    "        pk.append(format((int(pk1,2)^int(pk2,2)), '0384b'))\n",
    "    \n",
    "    return (sk, pk)"
   ]
  },
  {
   "cell_type": "code",
   "execution_count": 61,
   "metadata": {},
   "outputs": [],
   "source": [
    "def RSign(R, skl, l, m):\n",
    "    \"\"\"\n",
    "    Performs a ring signature\n",
    "    \n",
    "    args:\n",
    "        R: The ring used\n",
    "        skl: The secret key\n",
    "        l: the position we are in R Note: maybe this should be the pk, and we can check for pk match in R\n",
    "        m: the message signed\n",
    "    \"\"\"\n",
    "    x = []\n",
    "    r = []\n",
    "    c=[]\n",
    "    for i in range(len(R)):\n",
    "        ri=[]\n",
    "        ci=[]\n",
    "        xi = format(secrets.randbits(128), '0128b')\n",
    "\n",
    "        # This is our ring position\n",
    "        if i == l:\n",
    "            for j in range(128):\n",
    "                cij=PRG(skl[j][0])                \n",
    "                ci.append(cij)\n",
    "                \n",
    "        # for everyone else, use a random number as seed\n",
    "        else:            \n",
    "            for j in range(128):\n",
    "                rij = format(secrets.randbits(128), '0128b')                                \n",
    "                prg_rij=PRG(rij)\n",
    "                if xi[j] is '0':\n",
    "                    cij=prg_rij\n",
    "                else:\n",
    "                    cij=format(int(prg_rij,2)^int(R[i][j], 2), '0384b')\n",
    "                ci.append(cij)\n",
    "                ri.append(rij)\n",
    "        c.append(ci)\n",
    "        x.append(xi)\n",
    "        r.append(ri)\n",
    "        \n",
    "    # hash it!\n",
    "    z = hashlib.shake_128(\"{R}{m}{c}\".format(R=str(R), m=m, c=str(c)).encode('utf-8')).hexdigest(16)\n",
    "    z2 = int(z, 16)\n",
    "\n",
    "    # get the ⊕x[i!=l]\n",
    "    xl=0\n",
    "    for i in range(128):\n",
    "        if i==l:\n",
    "            pass\n",
    "        else:\n",
    "            xl=int(x[i],2)^xl\n",
    "\n",
    "            # set x[l] such that ⊕x[i]==z2\n",
    "    x[l]=format(xl^z2, '0128b')\n",
    "    \n",
    "    # set the random seed for l, so that we always end up with PRG[r[l][j]]==PRG(sk[j][0])\n",
    "    r[l]=[0 for x in range(128)]    \n",
    "    for j in range(128):        \n",
    "        r[l][j]=skl[j][int(x[l][j])]\n",
    "    \n",
    "    return (x, r)"
   ]
  },
  {
   "cell_type": "code",
   "execution_count": 62,
   "metadata": {},
   "outputs": [],
   "source": [
    "def RVerify(R, sigma, m):\n",
    "    \"\"\"\n",
    "    Verifies a ring signature\n",
    "    \n",
    "    args:\n",
    "        R: The ring used\n",
    "        sigma: The signature to verify\n",
    "        m: the message signed\n",
    "    \"\"\"\n",
    "    # parse sigma into x and r\n",
    "    x=sigma[0]\n",
    "    r=sigma[1]\n",
    "    c=[]\n",
    "    \n",
    "    for i, xi in enumerate(x):\n",
    "        ci=[]\n",
    "        for j in range(128):\n",
    "                                \n",
    "            prg_rij=PRG(r[i][j])\n",
    "            if xi[j] is '0':\n",
    "                cij=prg_rij\n",
    "            else:\n",
    "                cij=format(int(prg_rij,2)^int(R[i][j], 2), '0384b')\n",
    "            ci.append(cij)\n",
    "        c.append(ci)\n",
    "    \n",
    "    # hash it!\n",
    "    z = hashlib.shake_128(\"{R}{m}{c}\".format(R=str(R), m=m, c=str(c)).encode('utf-8')).hexdigest(16)\n",
    "    z2 = int(z, 16)\n",
    "\n",
    "    # get ⊕x[i]\n",
    "    xl=0\n",
    "    for i in range(128):\n",
    "        xl=int(x[i],2)^xl    \n",
    "\n",
    "    # verify that ⊕x[i]==z2\n",
    "    return xl==z2"
   ]
  },
  {
   "cell_type": "code",
   "execution_count": 66,
   "metadata": {},
   "outputs": [],
   "source": [
    "def get_runtime(N):\n",
    "    \"\"\"\n",
    "    args: \n",
    "        N: ring size\n",
    "    \"\"\"\n",
    "    \n",
    "    l=random.randrange(N)\n",
    "\n",
    "    gen_key_start=timer()\n",
    "    (sk, pk) = GenKey()\n",
    "    gen_key_stop=timer()\n",
    "    \n",
    "    R = GenTestRing(N, pk, l)\n",
    "    \n",
    "    sign_start=timer()\n",
    "    sigma = RSign(R, sk, l, \"I'm a test message2\")\n",
    "    sign_stop = timer()\n",
    "    \n",
    "    verify_start=timer()\n",
    "    verified = RVerify(R, sigma, \"I'm a test message2\")\n",
    "    verify_stop=timer()\n",
    "    \n",
    "    print(f\"Ring size {N}\")\n",
    "    print(\"Gen Key runtime {}s\".format(gen_key_stop-gen_key_start))\n",
    "    print(\"Signing runtime {}s\".format(sign_stop-sign_start))\n",
    "    print(\"Verify runtime {}s\".format(verify_stop-verify_start))\n",
    "    print(verified)\n"
   ]
  },
  {
   "cell_type": "code",
   "execution_count": 67,
   "metadata": {},
   "outputs": [
    {
     "name": "stdout",
     "output_type": "stream",
     "text": [
      "Ring size 8192\n",
      "Gen Key runtime 0.006221732997801155s\n",
      "Signing runtime 124.30321066000033s\n",
      "Verify runtime 21.722659288032446s\n",
      "False\n"
     ]
    }
   ],
   "source": [
    "get_runtime(8192)"
   ]
  },
  {
   "cell_type": "code",
   "execution_count": 57,
   "metadata": {},
   "outputs": [
    {
     "name": "stdout",
     "output_type": "stream",
     "text": [
      "1029\n",
      "1029\n"
     ]
    }
   ],
   "source": [
    "\n",
    "l=0\n",
    "R = GenTestRing(1029, pk, l)\n",
    "sigma= RSign(R, sk, l, \"I'm a test message2\")"
   ]
  },
  {
   "cell_type": "code",
   "execution_count": 60,
   "metadata": {},
   "outputs": [
    {
     "name": "stdout",
     "output_type": "stream",
     "text": [
      "1029\n"
     ]
    }
   ],
   "source": [
    "print(len(sigma[1]))"
   ]
  },
  {
   "cell_type": "code",
   "execution_count": 16,
   "metadata": {},
   "outputs": [
    {
     "data": {
      "text/plain": [
       "True"
      ]
     },
     "execution_count": 16,
     "metadata": {},
     "output_type": "execute_result"
    }
   ],
   "source": [
    "RVerify(R, sigma, \"I'm a test message2\")"
   ]
  },
  {
   "cell_type": "code",
   "execution_count": null,
   "metadata": {},
   "outputs": [],
   "source": []
  }
 ],
 "metadata": {
  "kernelspec": {
   "display_name": "Python 3",
   "language": "python",
   "name": "python3"
  },
  "language_info": {
   "codemirror_mode": {
    "name": "ipython",
    "version": 3
   },
   "file_extension": ".py",
   "mimetype": "text/x-python",
   "name": "python",
   "nbconvert_exporter": "python",
   "pygments_lexer": "ipython3",
   "version": "3.6.7"
  }
 },
 "nbformat": 4,
 "nbformat_minor": 2
}
